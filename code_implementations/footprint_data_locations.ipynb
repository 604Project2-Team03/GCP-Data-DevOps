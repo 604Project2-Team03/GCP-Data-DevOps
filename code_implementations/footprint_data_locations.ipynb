{
 "cells": [
  {
   "cell_type": "code",
   "execution_count": 20,
   "id": "3b88f855-ebdb-4140-87aa-a708e8ebecbc",
   "metadata": {},
   "outputs": [],
   "source": [
    "import logging\n",
    "import json\n",
    "from datetime import datetime\n",
    "import pandas as pd \n",
    "import time\n",
    "import traceback\n",
    "\n",
    "from apache_beam.runners.interactive.interactive_runner import InteractiveRunner\n",
    "import apache_beam.runners.interactive.interactive_beam as ib\n",
    "\n",
    "import apache_beam as beam\n",
    "from apache_beam.options.pipeline_options import PipelineOptions\n",
    "from apache_beam.options import pipeline_options\n",
    "from apache_beam.io.gcp.pubsub import ReadFromPubSub\n",
    "from apache_beam.io.gcp.bigquery import BigQueryDisposition, WriteToBigQuery\n",
    "from apache_beam.io import WriteToText\n",
    "\n",
    "from apache_beam import (\n",
    "    DoFn, \n",
    "    io,\n",
    "    ParDo, \n",
    "    PTransform,\n",
    "    WindowInto, \n",
    "    WithKeys,\n",
    ")\n",
    "\n",
    "from apache_beam.runners import DataflowRunner\n",
    "\n",
    "import google.auth\n"
   ]
  },
  {
   "cell_type": "code",
   "execution_count": 21,
   "id": "74e8d143-83ea-40c8-8414-73b476850316",
   "metadata": {},
   "outputs": [],
   "source": [
    "project_auth = google.auth.default()[1] \n",
    "\n",
    "\n",
    "pipeline_options = pipeline_options.PipelineOptions(\n",
    "    flags = {},\n",
    "    streaming = True, \n",
    "    project = project_auth, \n",
    "    region= 'us-central1', \n",
    "    staging_location = \"%s/staging\" % \"data604-project-g3-data\"\n",
    ")\n",
    "\n",
    "logging.basicConfig(level=logging.INFO)\n",
    "logger = logging.getLogger(__name__)"
   ]
  },
  {
   "cell_type": "code",
   "execution_count": 24,
   "id": "68d75d3e-3392-4d3e-b778-faedf7335bd0",
   "metadata": {
    "tags": []
   },
   "outputs": [],
   "source": [
    "table_schema = { \n",
    "    \"fields\":[ \n",
    "        {'name': \"time\", 'type':\"TIMESTAMP\", 'mode':\"NULLABLE\"}, \n",
    "        {'name': \"lat\", 'type':\"FLOAT\", 'mode':\"NULLABLE\"}, \n",
    "        {'name': \"long\",'type': \"FLOAT\", 'mode':\"NULLABLE\"},\n",
    "        {'name': \"speed\", 'type':\"FLOAT\", 'mode':\"NULLABLE\"},\n",
    "        {'name': \"label\",'type': \"STRING\", 'mode': \"NULLABLE\"}, \n",
    "        {'name': \"place_type\",'type': \"STRING\",'mode':\"NULLABLE\"}, \n",
    "        {'name': \"user_id\", 'type':\"STRING\", 'mode':\"NULLABLE\"}\n",
    "    ]\n",
    "}\n",
    "\n",
    "table = \"data604-project-g3:Footprint_data.locations\""
   ]
  },
  {
   "cell_type": "code",
   "execution_count": 22,
   "id": "28eb1e80-1ff6-4693-8dcc-fdb50d958e1b",
   "metadata": {},
   "outputs": [],
   "source": [
    "class tranformations(beam.DoFn):\n",
    "    def process(self, element):\n",
    "        import pandas as pd \n",
    "        \n",
    "        user_location = pd.DataFrame([element])\n",
    "        \n",
    "        try: \n",
    "            user_location['time'] = pd.to_datetime(user_location['time'], unit='ms')\n",
    "            user_location['time'] = user_location['time'].apply(lambda x: x.replace(year=2024))\n",
    "            user_location = user_location.drop(columns = ['acc', 'alt','bearing','postime'], axis = 1)\n",
    "            \n",
    "        except Exception as e: \n",
    "            logger.error(f\"Error processing record {element}: {e}\")\n",
    "            #return not sure if we should keep this or not \n",
    "        \n",
    "        yield user_location.to_dict(orient='records')[0]"
   ]
  },
  {
   "cell_type": "code",
   "execution_count": 25,
   "id": "92d446e9-bee5-4e4b-85ad-9e98702554b5",
   "metadata": {},
   "outputs": [
    {
     "name": "stderr",
     "output_type": "stream",
     "text": [
      "WARNING:apache_beam.io.gcp.gcsio:Unexpected error occurred when checking soft delete policy for gs://dataflow-staging-us-central1-18675e2485afe7315f18de97c3880eff\n",
      "WARNING:apache_beam.io.gcp.gcsio:Unexpected error occurred when checking soft delete policy for gs://dataflow-staging-us-central1-18675e2485afe7315f18de97c3880eff\n"
     ]
    },
    {
     "data": {
      "text/html": [
       "\n",
       "  <style>\n",
       "    div.alert {\n",
       "      white-space: pre-line;\n",
       "    }\n",
       "  </style>\n"
      ],
      "text/plain": [
       "<IPython.core.display.HTML object>"
      ]
     },
     "metadata": {},
     "output_type": "display_data"
    },
    {
     "data": {
      "text/html": [
       "\n",
       "            <link rel=\"stylesheet\" href=\"https://stackpath.bootstrapcdn.com/bootstrap/4.4.1/css/bootstrap.min.css\" integrity=\"sha384-Vkoo8x4CGsO3+Hhxv8T/Q5PaXtkKtu6ug5TOeNV6gBiFeWPGFN9MuhOf23Q9Ifjh\" crossorigin=\"anonymous\">\n",
       "            <div class=\"alert alert-info\">No cache_root detected. Defaulting to staging_location gs://dataflow-staging-us-central1-18675e2485afe7315f18de97c3880eff for cache location.</div>"
      ],
      "text/plain": [
       "<IPython.core.display.HTML object>"
      ]
     },
     "metadata": {},
     "output_type": "display_data"
    },
    {
     "name": "stderr",
     "output_type": "stream",
     "text": [
      "WARNING:apache_beam.io.gcp.gcsio:Unexpected error occurred when checking soft delete policy for gs://dataflow-staging-us-central1-18675e2485afe7315f18de97c3880eff\n",
      "WARNING:apache_beam.io.gcp.gcsio:Unexpected error occurred when checking soft delete policy for gs://dataflow-staging-us-central1-18675e2485afe7315f18de97c3880eff\n",
      "\u001b[33mWARNING: The directory '/home/jupyter/.cache/pip' or its parent directory is not owned or is not writable by the current user. The cache has been disabled. Check the permissions and owner of that directory. If executing pip with sudo, you should use sudo's -H flag.\u001b[0m\u001b[33m\n",
      "\u001b[0m"
     ]
    },
    {
     "data": {
      "text/plain": [
       "<DataflowPipelineResult <Job\n",
       " clientRequestId: '20241128000524994514-5200'\n",
       " createTime: '2024-11-28T00:05:25.994633Z'\n",
       " currentStateTime: '1970-01-01T00:00:00Z'\n",
       " id: '2024-11-27_16_05_25-15823640320879560523'\n",
       " location: 'us-central1'\n",
       " name: 'beamapp-root-1128000524-993435-2p8484pr'\n",
       " projectId: 'data604-project-g3'\n",
       " stageStates: []\n",
       " startTime: '2024-11-28T00:05:25.994633Z'\n",
       " steps: []\n",
       " tempFiles: []\n",
       " type: TypeValueValuesEnum(JOB_TYPE_STREAMING, 2)> at 0x7fad679fd1b0>"
      ]
     },
     "execution_count": 25,
     "metadata": {},
     "output_type": "execute_result"
    }
   ],
   "source": [
    "user_locations_p = beam.Pipeline(\n",
    "    DataflowRunner(),\n",
    "    options = pipeline_options,\n",
    ")\n",
    "\n",
    "user_locations_topic = \"projects/data604-project-g3/topics/locations_fake_streaming\"\n",
    "\n",
    "user_locations_pubsub = (user_locations_p | \"Read Topic\" >> ReadFromPubSub(topic=user_locations_topic)\n",
    "                                | \"Window\" >> beam.WindowInto(beam.window.FixedWindows(size = 3600))\n",
    "                                | \"To Dict\" >> beam.Map(json.loads)\n",
    "                                | \"Transformations\" >> beam.ParDo(tranformations()))\n",
    "                   \n",
    "\n",
    "user_locations_pubsub | \"Write To BigQuery\" >> WriteToBigQuery(table=table, schema=table_schema,\n",
    "                                  create_disposition=BigQueryDisposition.CREATE_IF_NEEDED,\n",
    "                                  write_disposition=BigQueryDisposition.WRITE_APPEND)\n",
    "\n",
    "user_locations_p.run()"
   ]
  },
  {
   "cell_type": "code",
   "execution_count": null,
   "id": "b9b1eca5-0fb0-47b9-8c3e-7587871a87ac",
   "metadata": {},
   "outputs": [],
   "source": []
  }
 ],
 "metadata": {
  "environment": {
   "kernel": "apache-beam-2.60.0",
   "name": ".m126",
   "type": "gcloud",
   "uri": "us-docker.pkg.dev/deeplearning-platform-release/gcr.io/:m126"
  },
  "kernelspec": {
   "display_name": "Python 3 (ipykernel)",
   "language": "python",
   "name": "python3"
  },
  "language_info": {
   "codemirror_mode": {
    "name": "ipython",
    "version": 3
   },
   "file_extension": ".py",
   "mimetype": "text/x-python",
   "name": "python",
   "nbconvert_exporter": "python",
   "pygments_lexer": "ipython3",
   "version": "3.10.14"
  }
 },
 "nbformat": 4,
 "nbformat_minor": 5
}
