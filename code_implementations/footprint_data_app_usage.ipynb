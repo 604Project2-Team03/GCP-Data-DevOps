{
 "cells": [
  {
   "cell_type": "code",
   "execution_count": 15,
   "id": "f310380d-93e0-4f92-ba70-98dc9d78c66b",
   "metadata": {},
   "outputs": [],
   "source": [
    "import logging\n",
    "import json\n",
    "from datetime import datetime\n",
    "import pandas as pd \n",
    "import time\n",
    "import traceback\n",
    "\n",
    "from apache_beam.runners.interactive.interactive_runner import InteractiveRunner\n",
    "import apache_beam.runners.interactive.interactive_beam as ib\n",
    "\n",
    "import apache_beam as beam\n",
    "from apache_beam.options.pipeline_options import PipelineOptions\n",
    "from apache_beam.options import pipeline_options\n",
    "from apache_beam.io.gcp.pubsub import ReadFromPubSub\n",
    "from apache_beam.io.gcp.bigquery import BigQueryDisposition, WriteToBigQuery\n",
    "from apache_beam.io import WriteToText\n",
    "\n",
    "from apache_beam import (\n",
    "    DoFn, \n",
    "    io,\n",
    "    ParDo, \n",
    "    PTransform,\n",
    "    WindowInto, \n",
    "    WithKeys,\n",
    ")\n",
    "\n",
    "from apache_beam.runners import DataflowRunner\n",
    "\n",
    "import google.auth\n"
   ]
  },
  {
   "cell_type": "code",
   "execution_count": 16,
   "id": "7b8d1ef4-0e70-42b6-af31-52d10509e3f6",
   "metadata": {},
   "outputs": [],
   "source": [
    "project_auth = google.auth.default()[1] \n",
    "\n",
    "\n",
    "pipeline_options = pipeline_options.PipelineOptions(\n",
    "    flags = {},\n",
    "    streaming = True, \n",
    "    project = project_auth, \n",
    "    region= 'us-central1', \n",
    "    staging_location = \"%s/staging\" % \"data604-project-g3-data\"\n",
    ")\n",
    "\n",
    "logging.basicConfig(level=logging.INFO)\n",
    "logger = logging.getLogger(__name__)\n"
   ]
  },
  {
   "cell_type": "code",
   "execution_count": 18,
   "id": "9ce2475c-cfc4-4a2b-82f9-0d4a1afd208a",
   "metadata": {},
   "outputs": [],
   "source": [
    "table_schema = { \n",
    "    \"fields\":[ \n",
    "        {'name': \"time\", 'type':\"TIMESTAMP\", 'mode':\"NULLABLE\"}, \n",
    "        {'name': \"package_name\", 'type':\"STRING\", 'mode':\"NULLABLE\"}, \n",
    "        {'name': \"last_time_used\",'type': \"TIMESTAMP\", 'mode':\"NULLABLE\"},\n",
    "        {'name': \"foreground_time_ms\",'type': \"INTEGER\", 'mode':\"NULLABLE\"}, \n",
    "        {'name': \"user_id\", 'type':\"STRING\", 'mode':\"NULLABLE\"}, \n",
    "    ],\n",
    "}\n",
    "\n",
    "table = \"data604-project-g3:Footprint_data.app_usage\""
   ]
  },
  {
   "cell_type": "code",
   "execution_count": 17,
   "id": "5cca401d-ff14-4ff2-8bb7-e39cc3396cd1",
   "metadata": {},
   "outputs": [],
   "source": [
    "class transformations(beam.DoFn):\n",
    "    def process(self, element):\n",
    "        import pandas as pd \n",
    "        \n",
    "        app_usage = pd.DataFrame([element])\n",
    "        \n",
    "        try: \n",
    "            app_usage['time'] = pd.to_datetime(app_usage['time'], unit='ms') \n",
    "            app_usage['last_time_used'] = pd.to_datetime(app_usage['last_time_used'] , unit = 'ms')\n",
    "            app_usage = app_usage.rename(columns={'total_fg_time':\"foreground_time_ms\"})\n",
    "        except Exception as e: \n",
    "            logger.error(f\"Error processing record {element}: {e}\")\n",
    "            #return not sure if we should keep this or not \n",
    "        \n",
    "        yield app_usage.to_dict(orient='records')[0]"
   ]
  },
  {
   "cell_type": "code",
   "execution_count": 20,
   "id": "9ca31b56-091f-4b11-9ec0-a3159b92c7b0",
   "metadata": {},
   "outputs": [
    {
     "name": "stderr",
     "output_type": "stream",
     "text": [
      "WARNING:apache_beam.io.gcp.gcsio:Unexpected error occurred when checking soft delete policy for gs://dataflow-staging-us-central1-18675e2485afe7315f18de97c3880eff\n",
      "WARNING:apache_beam.io.gcp.gcsio:Unexpected error occurred when checking soft delete policy for gs://dataflow-staging-us-central1-18675e2485afe7315f18de97c3880eff\n"
     ]
    },
    {
     "data": {
      "text/html": [
       "\n",
       "  <style>\n",
       "    div.alert {\n",
       "      white-space: pre-line;\n",
       "    }\n",
       "  </style>\n"
      ],
      "text/plain": [
       "<IPython.core.display.HTML object>"
      ]
     },
     "metadata": {},
     "output_type": "display_data"
    },
    {
     "data": {
      "text/html": [
       "\n",
       "            <link rel=\"stylesheet\" href=\"https://stackpath.bootstrapcdn.com/bootstrap/4.4.1/css/bootstrap.min.css\" integrity=\"sha384-Vkoo8x4CGsO3+Hhxv8T/Q5PaXtkKtu6ug5TOeNV6gBiFeWPGFN9MuhOf23Q9Ifjh\" crossorigin=\"anonymous\">\n",
       "            <div class=\"alert alert-info\">No cache_root detected. Defaulting to staging_location gs://dataflow-staging-us-central1-18675e2485afe7315f18de97c3880eff for cache location.</div>"
      ],
      "text/plain": [
       "<IPython.core.display.HTML object>"
      ]
     },
     "metadata": {},
     "output_type": "display_data"
    },
    {
     "name": "stderr",
     "output_type": "stream",
     "text": [
      "WARNING:apache_beam.io.gcp.gcsio:Unexpected error occurred when checking soft delete policy for gs://dataflow-staging-us-central1-18675e2485afe7315f18de97c3880eff\n",
      "WARNING:apache_beam.io.gcp.gcsio:Unexpected error occurred when checking soft delete policy for gs://dataflow-staging-us-central1-18675e2485afe7315f18de97c3880eff\n",
      "\u001b[33mWARNING: The directory '/home/jupyter/.cache/pip' or its parent directory is not owned or is not writable by the current user. The cache has been disabled. Check the permissions and owner of that directory. If executing pip with sudo, you should use sudo's -H flag.\u001b[0m\u001b[33m\n",
      "\u001b[0m"
     ]
    },
    {
     "data": {
      "text/plain": [
       "<DataflowPipelineResult <Job\n",
       " clientRequestId: '20241127221651567027-5878'\n",
       " createTime: '2024-11-27T22:16:52.660779Z'\n",
       " currentStateTime: '1970-01-01T00:00:00Z'\n",
       " id: '2024-11-27_14_16_52-17763565330462161054'\n",
       " location: 'us-central1'\n",
       " name: 'beamapp-root-1127221651-565917-89gabpgk'\n",
       " projectId: 'data604-project-g3'\n",
       " stageStates: []\n",
       " startTime: '2024-11-27T22:16:52.660779Z'\n",
       " steps: []\n",
       " tempFiles: []\n",
       " type: TypeValueValuesEnum(JOB_TYPE_STREAMING, 2)> at 0x7f203295d780>"
      ]
     },
     "execution_count": 20,
     "metadata": {},
     "output_type": "execute_result"
    }
   ],
   "source": [
    "app_usage_p = beam.Pipeline(\n",
    "    DataflowRunner(),\n",
    "    options = pipeline_options,\n",
    ")\n",
    "\n",
    "app_usage_topic = \"projects/data604-project-g3/topics/apps_usage_fake_streaming\"\n",
    "\n",
    "app_usage_pubsub = (app_usage_p | \"Read Topic\" >> ReadFromPubSub(topic=app_usage_topic)\n",
    "                                | \"Window\" >> beam.WindowInto(beam.window.FixedWindows(size=3600))\n",
    "                                | \"To Dict\" >> beam.Map(json.loads)\n",
    "                                | \"Transformations\" >> beam.ParDo(transformations()))\n",
    "\n",
    "app_usage_pubsub | \"Write To BigQuery\" >> WriteToBigQuery(table=table, schema=table_schema,\n",
    "                                  create_disposition=BigQueryDisposition.CREATE_IF_NEEDED,\n",
    "                                  write_disposition=BigQueryDisposition.WRITE_APPEND)\n",
    "\n",
    "app_usage_p.run()"
   ]
  },
  {
   "cell_type": "code",
   "execution_count": null,
   "id": "a83ce131-4acc-4404-91b8-d6e3554d04be",
   "metadata": {},
   "outputs": [],
   "source": []
  }
 ],
 "metadata": {
  "environment": {
   "kernel": "apache-beam-2.60.0",
   "name": ".m126",
   "type": "gcloud",
   "uri": "us-docker.pkg.dev/deeplearning-platform-release/gcr.io/:m126"
  },
  "kernelspec": {
   "display_name": "Python 3 (ipykernel)",
   "language": "python",
   "name": "python3"
  },
  "language_info": {
   "codemirror_mode": {
    "name": "ipython",
    "version": 3
   },
   "file_extension": ".py",
   "mimetype": "text/x-python",
   "name": "python",
   "nbconvert_exporter": "python",
   "pygments_lexer": "ipython3",
   "version": "3.10.14"
  }
 },
 "nbformat": 4,
 "nbformat_minor": 5
}
